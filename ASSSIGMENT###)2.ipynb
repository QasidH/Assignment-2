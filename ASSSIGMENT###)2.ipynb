{
 "cells": [
  {
   "cell_type": "code",
   "execution_count": 1,
   "metadata": {},
   "outputs": [
    {
     "name": "stdout",
     "output_type": "stream",
     "text": [
      "Enter Radius vaalue = 0.5\n",
      "0.7855\n"
     ]
    }
   ],
   "source": [
    "'''\n",
    "Q#1.\n",
    "Calculate Area of a Circle\n",
    "Write a Python program which accepts the radius of a circle from the user and compute the area. Program Console Sample Output 1: Input Radius: 0.5 Area of Circle with radius 0.5 is 0.7853981634\n",
    "'''\n",
    "\n",
    "radius = float(input('Enter Radius vaalue = '))\n",
    "pi = 3.142\n",
    "\n",
    "Area = (pi) * (radius**2)\n",
    "print(Area)"
   ]
  },
  {
   "cell_type": "code",
   "execution_count": 13,
   "metadata": {},
   "outputs": [
    {
     "name": "stdout",
     "output_type": "stream",
     "text": [
      "Enter numver=0\n",
      "number os Zero\n"
     ]
    }
   ],
   "source": [
    "'''\n",
    "Q#2.\n",
    "Check Number either positive, negative or zero\n",
    "Write a Python program to check if a number is positive, negative or zero \n",
    "'''\n",
    "num=int(input(\"Enter numver=\"))\n",
    "if num<0:\n",
    "    print(\"Number is Negative\")\n",
    "elif num>0:\n",
    "    print(\"Number is positive\")\n",
    "else:\n",
    "    print(\"number os Zero\")"
   ]
  },
  {
   "cell_type": "code",
   "execution_count": 9,
   "metadata": {},
   "outputs": [
    {
     "name": "stdout",
     "output_type": "stream",
     "text": [
      "Enter 1st Number= 4\n",
      "Enter 2nd Numner= 2\n",
      "Number is completely divisible \n"
     ]
    }
   ],
   "source": [
    "'''\n",
    "Q#3.  \n",
    "Divisibility Check of two numbers\n",
    "Write a Python program to check whether a number is completely divisible by another number. Accept two integer values form the user \n",
    "'''\n",
    "num1=int(input(\"Enter 1st Number= \"))\n",
    "num2=int(input(\"Enter 2nd Numner= \"))\n",
    "num3=num1%num2\n",
    "if num3==0:\n",
    "    print(\"Number is completely divisible \")\n",
    "else:\n",
    "     print(\"NUmber is not completely divisilbe\")\n",
    "    "
   ]
  },
  {
   "cell_type": "code",
   "execution_count": 8,
   "metadata": {},
   "outputs": [
    {
     "name": "stdout",
     "output_type": "stream",
     "text": [
      "dd/mm/yyyy  12/06/2019\n",
      "dd/mm/yyyy  20/06/2019\n",
      "there are 8 days between two dates\n"
     ]
    }
   ],
   "source": [
    "'''\n",
    "Q#4.\n",
    "Days Calculator\n",
    "Write a Python program to calculate number of days between two dates \n",
    "'''\n",
    "date1=input(\"dd/mm/yyyy  \")\n",
    "date2=input(\"dd/mm/yyyy  \")\n",
    "Ans=abs(int(date2[0]+date2[1])-int(date1[0]+date1[1]))\n",
    "print(\"there are \"+ str(Ans) +\" days between two dates\")"
   ]
  },
  {
   "cell_type": "code",
   "execution_count": null,
   "metadata": {},
   "outputs": [],
   "source": [
    "'''\n",
    "Q#05. \n",
    "Calculate Volume of a sphere\n",
    "Write a Python program to get the volume of a sphere, please take the radius as input from user\n",
    "'''\n",
    "\n",
    "\n",
    "Radius=float(input(\"Enter Radius of sphere= \"))\n",
    "pi=3.142\n",
    "vol=(4/3)*pi*(Radius**3)\n",
    "print(\"Volume_of_Sphere=\",str(vol))\n"
   ]
  },
  {
   "cell_type": "code",
   "execution_count": 7,
   "metadata": {},
   "outputs": [
    {
     "name": "stdout",
     "output_type": "stream",
     "text": [
      "Enter string = HI\n",
      "Number of string we need= 3\n",
      "HIHIHI\n"
     ]
    }
   ],
   "source": [
    "'''\n",
    "Q#)6. \n",
    "Copy string n times\n",
    "Write a Python program to get a string which is n (non-negative integer) copies of a given string. \n",
    "'''\n",
    "string=input(\"Enter string = \")\n",
    "number=int(input(\"Number of string we need= \"))\n",
    "str=(\"\")\n",
    "for x in range(number):\n",
    "    str=str + string\n",
    "print(str)"
   ]
  },
  {
   "cell_type": "code",
   "execution_count": 11,
   "metadata": {},
   "outputs": [
    {
     "name": "stdout",
     "output_type": "stream",
     "text": [
      "Enter 1st Number=  7\n",
      "Number is odd\n"
     ]
    }
   ],
   "source": [
    "'''\n",
    "Q#07.\n",
    "Check if number is Even or Odd\n",
    "Write a Python program to find whether a given number (accept from the user) is even or odd, print out an appropriate message to the user\n",
    "'''\n",
    "num1=int(input( \"Enter 1st Number=  \"))\n",
    "num2=2\n",
    "num3=num1%num2\n",
    "if num3==0:\n",
    "    print(\"  Number is Even \")\n",
    "else:\n",
    "    print(\"Number is odd\")\n",
    "        "
   ]
  },
  {
   "cell_type": "code",
   "execution_count": 19,
   "metadata": {},
   "outputs": [
    {
     "name": "stdout",
     "output_type": "stream",
     "text": [
      "Enter Letters=  t\n",
      "Letters are consonent\n"
     ]
    }
   ],
   "source": [
    "'''\n",
    "Q#8.  \n",
    "Vowel Tester\n",
    "Write a Python program to test whether a passed letter is a vowel or not\n",
    "'''\n",
    "Letter=input(\"Enter Letters=  \")\n",
    "if Letter==\"A\" or Letter==\"a\" or Letter==\"E\" or Letter==\"e\" or Letter==\"I\" or Letter==\"i\" or Letter==\"O\" or Letter==\"o\" or Letter==\"U\" or Letter==\"u\":\n",
    "    print(\"Lettrs are Vowel\")\n",
    "else:\n",
    "    print(\"Letters are consonent\")"
   ]
  },
  {
   "cell_type": "code",
   "execution_count": 20,
   "metadata": {},
   "outputs": [
    {
     "name": "stdout",
     "output_type": "stream",
     "text": [
      "Base of Triangle=4\n",
      " Height of Trinage= 6\n",
      "Area_of_Trinagle 12.0\n"
     ]
    }
   ],
   "source": [
    "'''\n",
    "Q#9. \n",
    "Triangle area\n",
    "Write a Python program that will accept the base and height of a triangle and compute the area\n",
    "'''\n",
    "Base=int(input(\"Base of Triangle=\" ))\n",
    "Height=int(input(\" Height of Trinage= \"))\n",
    "Area=(Base*Height)/2\n",
    "print(\"Area_of_Trinagle\",Area)"
   ]
  },
  {
   "cell_type": "code",
   "execution_count": 27,
   "metadata": {},
   "outputs": [
    {
     "name": "stdout",
     "output_type": "stream",
     "text": [
      "  Principle Amount100\n",
      "Rate of Interest .5\n",
      "Number of year2\n",
      "101.00249999999997\n"
     ]
    }
   ],
   "source": [
    "'''\n",
    "Q#10. Calculate Interest\n",
    "Write a Python program to compute the future value of a specified principal amount, rate of interest, and a number of years\n",
    "'''\n",
    "Amount=float(input(\"  Principle Amount\"))\n",
    "rate=float(input(\"Rate of Interest \"))\n",
    "years=float(input(\"Number of year\"))\n",
    "Future_Value=Amount*((1+(0.01*rate)) ** years)\n",
    "print(Future_Value)"
   ]
  },
  {
   "cell_type": "code",
   "execution_count": 33,
   "metadata": {},
   "outputs": [
    {
     "name": "stdout",
     "output_type": "stream",
     "text": [
      "Coordinate of X1= 2\n",
      "Coordinate of X2= 4\n",
      "Coordinate of Y1= 4\n",
      "Coordinate of Y2= 4\n",
      "2.0\n"
     ]
    }
   ],
   "source": [
    "'''\n",
    "Q#11. \n",
    "Euclidean distance\n",
    "Write a Python program to compute the distance between the points (x1, y1) and (x2, y2).\n",
    "'''\n",
    "X1=int(input(\"Coordinate of X1= \"))\n",
    "X2=int(input(\"Coordinate of X2= \"))\n",
    "Y1=int(input(\"Coordinate of Y1= \"))\n",
    "Y2=int(input(\"Coordinate of Y2= \"))\n",
    "X=(Y1-X1)**2\n",
    "Y=(Y2-X2)**2\n",
    "Euclidean_distance=(X+Y)**.5\n",
    "print(Euclidean_distance)"
   ]
  },
  {
   "cell_type": "code",
   "execution_count": 36,
   "metadata": {},
   "outputs": [
    {
     "name": "stdout",
     "output_type": "stream",
     "text": [
      " Valueof feet = 5\n",
      "152.4\n"
     ]
    }
   ],
   "source": [
    "'''\n",
    "Q#12. \n",
    "Feet to Centimeter Converter\n",
    "Write a Python program to convert height in feet to centimetres.\n",
    "\n",
    "'''\n",
    "H_in_feet=int(input(\" Valueof feet = \"))\n",
    "Centimeter=30.48*H_in_feet\n",
    "print(Centimeter)"
   ]
  },
  {
   "cell_type": "code",
   "execution_count": 39,
   "metadata": {},
   "outputs": [
    {
     "name": "stdout",
     "output_type": "stream",
     "text": [
      " Enter height= 180\n",
      " Enter weight= 75\n",
      "Body Mass index 23.148148148148145\n"
     ]
    }
   ],
   "source": [
    "'''\n",
    "Q#13.\n",
    "BMI Calculator\n",
    "Write a Python program to calculate body mass index\n",
    "'''\n",
    "height=int(input(\" Enter height= \"))\n",
    "weight=int(input(\" Enter weight= \"))\n",
    "BMI=(weight/height**2)*10000\n",
    "print(\"Body Mass index\",BMI)"
   ]
  },
  {
   "cell_type": "code",
   "execution_count": 42,
   "metadata": {},
   "outputs": [
    {
     "name": "stdout",
     "output_type": "stream",
     "text": [
      "Input a number: 5\n",
      "15.0\n"
     ]
    }
   ],
   "source": [
    "'''\n",
    "Q#14. \n",
    "Sum of n Positive Integers\n",
    "Write a python program to sum of the first n positive integers\n",
    "'''\n",
    "x = int(input(\"Input a number: \"))\n",
    "sum_of_num = (x * (x + 1)) / 2\n",
    "print(sum_of_num)"
   ]
  },
  {
   "cell_type": "code",
   "execution_count": 43,
   "metadata": {},
   "outputs": [
    {
     "name": "stdout",
     "output_type": "stream",
     "text": [
      "Enter Number: 15\n",
      "6\n"
     ]
    }
   ],
   "source": [
    "'''\n",
    "Q#15.\n",
    "Digits Sum of a Number\n",
    "Write a Python program to calculate the sum of the digits in an integer\n",
    "'''\n",
    "num1 = input('Enter Number: ')\n",
    "lenght = len(num1)\n",
    "summ = 0\n",
    "for x in range(lenght):\n",
    "    summ = summ + int(num1[x])\n",
    "print(summ)"
   ]
  },
  {
   "cell_type": "code",
   "execution_count": null,
   "metadata": {},
   "outputs": [],
   "source": [
    "'''\n",
    "16. Decimal to Binary Converter\n",
    "Write a Python program to convert an decimal integer to binary\n",
    "\n",
    "'''\n",
    "\n",
    "\n",
    "def binary(n):\n",
    "   if n > 1:\n",
    "       binary(n//2)\n",
    "   print(n % 2,end = '')\n",
    " \n",
    "decimal = int(input(\"Enter an integer: \"))\n",
    "binary(decimal)"
   ]
  },
  {
   "cell_type": "code",
   "execution_count": null,
   "metadata": {},
   "outputs": [],
   "source": [
    "'''\n",
    "17. Binary to Decimal Converter\n",
    "Write a program to convert binary number to Decimal number\n",
    "\n",
    "'''\n",
    "\n",
    "b_num = list(input(\"Input a binary number: \"))\n",
    "value = 0\n",
    "\n",
    "for i in range(len(b_num)):\n",
    "    dig = b_num.pop()\n",
    "    if dig == '1':\n",
    "        value = value + pow(2, i)\n",
    "print(\"The decimal value of the number is\", value)"
   ]
  },
  {
   "cell_type": "code",
   "execution_count": null,
   "metadata": {},
   "outputs": [],
   "source": [
    "'''\n",
    "18. Vowel and Consonants Counter\n",
    "Input a text and count the occurrences of vowels and consonant\n",
    "'''\n",
    "\n",
    "str1 = input(\"Please Enter Your Own String : \")\n",
    "vowels = 0\n",
    "consonants = 0\n",
    "\n",
    "for i in str1:\n",
    "    if(i == 'a' or i == 'e' or i == 'i' or i == 'o' or i == 'u'\n",
    "       or i == 'A' or i == 'E' or i == 'I' or i == 'O' or i == 'U'):\n",
    "        vowels = vowels + 1\n",
    "    else:\n",
    "        consonants = consonants + 1\n",
    " \n",
    "print(\"Total Number of Vowels in this String = \", vowels)\n",
    "print(\"Total Number of Consonants in this String = \", consonants)"
   ]
  },
  {
   "cell_type": "code",
   "execution_count": null,
   "metadata": {},
   "outputs": [],
   "source": [
    "'''\n",
    "19. Palindrome tester\n",
    "Write a program to check whether given input is palindrome or not\n",
    "'''\n",
    "\n",
    "string = input(\"Enter String: \")\n",
    "rev_string = reversed(string)\n",
    "if list(string) == list(rev_string):\n",
    "   print(\"It is palindrome\")\n",
    "else:\n",
    "   print(\"It is not palindrome\")\n"
   ]
  },
  {
   "cell_type": "code",
   "execution_count": null,
   "metadata": {},
   "outputs": [],
   "source": [
    "'''\n",
    "20. Count Alphabets, Numbers and Special Characters\n",
    "Write a Python program that accepts a string and calculate the number of digits and letters\n",
    "\n",
    "'''\n",
    "\n",
    "s = input(\"Input a string: \")\n",
    "d=l=0\n",
    "for c in s:\n",
    "    if c.isdigit():\n",
    "        d=d+1\n",
    "    elif c.isalpha():\n",
    "        l=l+1\n",
    "    else:\n",
    "        pass\n",
    "print(\"Letters\", l)\n",
    "print(\"Digits\", d)"
   ]
  },
  {
   "cell_type": "code",
   "execution_count": null,
   "metadata": {},
   "outputs": [],
   "source": [
    "'''\n",
    "21. Write a Python program to construct the following pattern\n",
    "* \n",
    "* * \n",
    "* * * \n",
    "* * * * \n",
    "* * * * * \n",
    "* * * * \n",
    "* * * \n",
    "* * \n",
    "*\n",
    "'''\n",
    "\n",
    "rows = input(\"Enter max star to be display on single line\")\n",
    "rows = int (rows) \n",
    "\n",
    "for i in range (0, rows):\n",
    "    for j in range(0, i + 1):\n",
    "        print(\"*\", end=' ')\n",
    "    print(\"\\r\")\n",
    "for i in range (rows, 0, -1):\n",
    "    for j in range(0, i -1):\n",
    "        print(\"*\", end=' ')\n",
    "    print(\"\\r\")"
   ]
  },
  {
   "cell_type": "code",
   "execution_count": null,
   "metadata": {},
   "outputs": [],
   "source": [
    "'''\n",
    "22. Write a Python program to construct the following pattern\n",
    "1 \n",
    "1 2 \n",
    "1 2 3 \n",
    "1 2 3 4 \n",
    "1 2 3 4 5 \n",
    "1 2 3 4 \n",
    "1 2 3 \n",
    "1 2 \n",
    "1\n",
    "'''\n",
    "\n",
    "number = int(input('Enter Number: '))\n",
    "lenght = number\n",
    "for row in range(1, lenght):\n",
    "    for column in range(1, row + 1):\n",
    "        print(column, end=' ')\n",
    "    print(\"\")"
   ]
  },
  {
   "cell_type": "code",
   "execution_count": null,
   "metadata": {},
   "outputs": [],
   "source": [
    "'''\n",
    "23. Write a Python program to construct the following pattern\n",
    "1\n",
    "22\n",
    "333\n",
    "4444\n",
    "55555\n",
    "666666\n",
    "7777777\n",
    "88888888\n",
    "999999999\n",
    "'''\n",
    "\n",
    "number = int(input('Enter Number: '))\n",
    "lenght = number\n",
    "for num in range(lenght):\n",
    "    for i in range(num):\n",
    "        print (num, end=\" \")\n",
    "    print(\"\\n\")"
   ]
  }
 ],
 "metadata": {
  "kernelspec": {
   "display_name": "Python 3",
   "language": "python",
   "name": "python3"
  },
  "language_info": {
   "codemirror_mode": {
    "name": "ipython",
    "version": 3
   },
   "file_extension": ".py",
   "mimetype": "text/x-python",
   "name": "python",
   "nbconvert_exporter": "python",
   "pygments_lexer": "ipython3",
   "version": "3.7.3"
  }
 },
 "nbformat": 4,
 "nbformat_minor": 2
}
